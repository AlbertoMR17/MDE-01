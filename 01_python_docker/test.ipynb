{
 "cells": [
  {
   "cell_type": "markdown",
   "metadata": {},
   "source": [
    "ENDPOINT POST IMAGE\n"
   ]
  },
  {
   "cell_type": "code",
   "execution_count": 49,
   "metadata": {},
   "outputs": [
    {
     "name": "stdout",
     "output_type": "stream",
     "text": [
      "<Response [200]>\n",
      "{'date': '2024-01-14 19:46:52', 'id': 3313, 'image': 'iVBORw0KGgoAAAANSUhE', 'size': 2523.5478515625, 'tags': [{'confidence': 75.0553436279297, 'tag': 'car'}, {'confidence': 74.7041397094727, 'tag': 'intersection'}, {'confidence': 54.1072158813477, 'tag': 'city'}]}\n"
     ]
    }
   ],
   "source": [
    "import requests\n",
    "import base64\n",
    "import io\n",
    "import os\n",
    "from PIL import Image\n",
    "from io import BytesIO\n",
    "\n",
    "\n",
    "carpeta_imagen = r\"C:\\Users\\alber\\OneDrive\\Escritorio\\MBIT\\04_Proyectos_de_consolidacion\\01_Creacion_de_una_aplicacion_apificada_basada_en_microservicios\\01_python_docker\\imagenes\"\n",
    "#carpeta_imagen = r\"C:\\Users\\AMartos\\Desktop\\MDE-01-TC\\01_python_docker\\imagenes\"\n",
    "nombre_imagen = \"08_imagen.png\"\n",
    "ruta_completa=os.path.join(carpeta_imagen,nombre_imagen)\n",
    "\n",
    "with open(ruta_completa, mode=\"rb\") as img_file:\n",
    "\n",
    "    #img=Image.open(io.BytesIO(img_file.read()))\n",
    "    img = img_file.read()\n",
    "\n",
    "b64str = base64.b64encode(img).decode()\n",
    "\n",
    "#ENDPOINT POST IMAGE\n",
    "response = requests.post(f'http://localhost:5000/image?min_confidence=53', json={\"data\": b64str})\n",
    "\n",
    "print(response)\n",
    "print(response.json())\n",
    "\n",
    "\n",
    "\n",
    "#LEER UNA IMAGEN DEL VOLUMEN DE DOCKER\n",
    "# imagen = response.json()[\"image\"]\n",
    "# imagen\n",
    "# # Decodificar desde base64\n",
    "# binary_data = base64.b64decode(imagen)\n",
    "# # Crear una imagen a partir de los datos binarios\n",
    "# image = Image.open(BytesIO(binary_data))\n",
    "# # Mostrar la imagen\n",
    "# image.show()\n",
    "\n"
   ]
  },
  {
   "cell_type": "markdown",
   "metadata": {},
   "source": [
    "ENDPOINT GET IMAGES"
   ]
  },
  {
   "cell_type": "code",
   "execution_count": 51,
   "metadata": {},
   "outputs": [
    {
     "name": "stdout",
     "output_type": "stream",
     "text": [
      "2024-01-11%2012%3A17%3A23\n",
      "2024-01-11%2012%3A08%3A01\n",
      "intersection%2Ccity%2Ccar\n",
      "<Response [200]>\n",
      "{'data': [{'confidence': 75.0553, 'id': '3313', 'picture_date': '2024-01-14 19:46:52', 'size': 2523.55, 'tag': 'car'}, {'confidence': 54.1072, 'id': '3313', 'picture_date': '2024-01-14 19:46:52', 'size': 2523.55, 'tag': 'city'}, {'confidence': 74.7041, 'id': '3313', 'picture_date': '2024-01-14 19:46:52', 'size': 2523.55, 'tag': 'intersection'}]}\n"
     ]
    }
   ],
   "source": [
    "import requests\n",
    "from urllib.parse import quote\n",
    "\n",
    "#Es necesario adaptar el formato %Y-%m-%d %H:%M:%S para que sea legible por una URL\n",
    "max_date=\"2024-01-11 12:17:23\"\n",
    "max_date_formatted=quote(max_date)\n",
    "print(max_date_formatted)\n",
    "\n",
    "min_date=\"2024-01-11 12:08:01\"\n",
    "min_date_formatted=quote(min_date)\n",
    "print(min_date_formatted)\n",
    "\n",
    "#tags = ('bedroom,room,interior,forniture')\n",
    "tags = ('intersection,city,car')\n",
    "#tags = ('beach,sand,turquoise,ocean')\n",
    "#tags = ('jeep,car,motor vehicle')\n",
    "#tags = ('university')\n",
    "#tags = ('car')\n",
    "tags_formatted=quote(tags)\n",
    "print(tags_formatted)\n",
    "#response = requests.get(f'http://localhost:5000/images?max_date=2018&min_date=2010')\n",
    "#response = requests.get(f'http://localhost:5000/images?max_date=2024-01-11%2009%3A00%3A00')\n",
    "\n",
    "#response = requests.get(f'http://localhost:5000/images?max_date={max_date_formatted}')\n",
    "#response = requests.get(f'http://localhost:5000/images?min_date={min_date_formatted}')\n",
    "#response = requests.get(f'http://localhost:5000/images?min_date={min_date_formatted}&max_date={max_date_formatted}')\n",
    "response = requests.get(f'http://localhost:5000/images?tags={tags_formatted}')\n",
    "\n",
    "print(response)\n",
    "print(response.json())"
   ]
  },
  {
   "cell_type": "markdown",
   "metadata": {},
   "source": [
    "ENDPOINT GET IMAGE"
   ]
  },
  {
   "cell_type": "code",
   "execution_count": 76,
   "metadata": {},
   "outputs": [
    {
     "name": "stdout",
     "output_type": "stream",
     "text": [
      "<Response [200]>\n",
      "{'data': 'iVBORw0KGgoAAAA', 'date': '2024-01-14 19:05:00', 'id': '9393', 'size': 13419.7, 'tags': [{'confidence': 100.0, 'tag': 'beach'}, {'confidence': 76.4411, 'tag': 'ocean'}, {'confidence': 90.4093, 'tag': 'sand'}, {'confidence': 85.7145, 'tag': 'turquoise'}]}\n"
     ]
    }
   ],
   "source": [
    "import requests\n",
    "from urllib.parse import quote\n",
    "\n",
    "\n",
    "\n",
    "response = requests.get(f'http://localhost:5000/image/9393')\n",
    "\n",
    "print(response)\n",
    "print(response.json())\n",
    "\n",
    "\n"
   ]
  },
  {
   "cell_type": "code",
   "execution_count": 15,
   "metadata": {},
   "outputs": [
    {
     "ename": "JSONDecodeError",
     "evalue": "[Errno Expecting value] <!doctype html>\n<html lang=en>\n<title>500 Internal Server Error</title>\n<h1>Internal Server Error</h1>\n<p>The server encountered an internal error and was unable to complete your request. Either the server is overloaded or there is an error in the application.</p>\n: 0",
     "output_type": "error",
     "traceback": [
      "\u001b[1;31m---------------------------------------------------------------------------\u001b[0m",
      "\u001b[1;31mJSONDecodeError\u001b[0m                           Traceback (most recent call last)",
      "File \u001b[1;32mc:\\Users\\alber\\AppData\\Local\\Programs\\Python\\Python310\\lib\\site-packages\\requests\\models.py:910\u001b[0m, in \u001b[0;36mResponse.json\u001b[1;34m(self, **kwargs)\u001b[0m\n\u001b[0;32m    909\u001b[0m \u001b[38;5;28;01mtry\u001b[39;00m:\n\u001b[1;32m--> 910\u001b[0m     \u001b[38;5;28;01mreturn\u001b[39;00m complexjson\u001b[38;5;241m.\u001b[39mloads(\u001b[38;5;28mself\u001b[39m\u001b[38;5;241m.\u001b[39mtext, \u001b[38;5;241m*\u001b[39m\u001b[38;5;241m*\u001b[39mkwargs)\n\u001b[0;32m    911\u001b[0m \u001b[38;5;28;01mexcept\u001b[39;00m JSONDecodeError \u001b[38;5;28;01mas\u001b[39;00m e:\n\u001b[0;32m    912\u001b[0m     \u001b[38;5;66;03m# Catch JSON-related errors and raise as requests.JSONDecodeError\u001b[39;00m\n\u001b[0;32m    913\u001b[0m     \u001b[38;5;66;03m# This aliases json.JSONDecodeError and simplejson.JSONDecodeError\u001b[39;00m\n",
      "File \u001b[1;32mc:\\Users\\alber\\AppData\\Local\\Programs\\Python\\Python310\\lib\\json\\__init__.py:346\u001b[0m, in \u001b[0;36mloads\u001b[1;34m(s, cls, object_hook, parse_float, parse_int, parse_constant, object_pairs_hook, **kw)\u001b[0m\n\u001b[0;32m    343\u001b[0m \u001b[38;5;28;01mif\u001b[39;00m (\u001b[38;5;28mcls\u001b[39m \u001b[38;5;129;01mis\u001b[39;00m \u001b[38;5;28;01mNone\u001b[39;00m \u001b[38;5;129;01mand\u001b[39;00m object_hook \u001b[38;5;129;01mis\u001b[39;00m \u001b[38;5;28;01mNone\u001b[39;00m \u001b[38;5;129;01mand\u001b[39;00m\n\u001b[0;32m    344\u001b[0m         parse_int \u001b[38;5;129;01mis\u001b[39;00m \u001b[38;5;28;01mNone\u001b[39;00m \u001b[38;5;129;01mand\u001b[39;00m parse_float \u001b[38;5;129;01mis\u001b[39;00m \u001b[38;5;28;01mNone\u001b[39;00m \u001b[38;5;129;01mand\u001b[39;00m\n\u001b[0;32m    345\u001b[0m         parse_constant \u001b[38;5;129;01mis\u001b[39;00m \u001b[38;5;28;01mNone\u001b[39;00m \u001b[38;5;129;01mand\u001b[39;00m object_pairs_hook \u001b[38;5;129;01mis\u001b[39;00m \u001b[38;5;28;01mNone\u001b[39;00m \u001b[38;5;129;01mand\u001b[39;00m \u001b[38;5;129;01mnot\u001b[39;00m kw):\n\u001b[1;32m--> 346\u001b[0m     \u001b[38;5;28;01mreturn\u001b[39;00m \u001b[43m_default_decoder\u001b[49m\u001b[38;5;241;43m.\u001b[39;49m\u001b[43mdecode\u001b[49m\u001b[43m(\u001b[49m\u001b[43ms\u001b[49m\u001b[43m)\u001b[49m\n\u001b[0;32m    347\u001b[0m \u001b[38;5;28;01mif\u001b[39;00m \u001b[38;5;28mcls\u001b[39m \u001b[38;5;129;01mis\u001b[39;00m \u001b[38;5;28;01mNone\u001b[39;00m:\n",
      "File \u001b[1;32mc:\\Users\\alber\\AppData\\Local\\Programs\\Python\\Python310\\lib\\json\\decoder.py:337\u001b[0m, in \u001b[0;36mJSONDecoder.decode\u001b[1;34m(self, s, _w)\u001b[0m\n\u001b[0;32m    333\u001b[0m \u001b[38;5;124;03m\"\"\"Return the Python representation of ``s`` (a ``str`` instance\u001b[39;00m\n\u001b[0;32m    334\u001b[0m \u001b[38;5;124;03mcontaining a JSON document).\u001b[39;00m\n\u001b[0;32m    335\u001b[0m \n\u001b[0;32m    336\u001b[0m \u001b[38;5;124;03m\"\"\"\u001b[39;00m\n\u001b[1;32m--> 337\u001b[0m obj, end \u001b[38;5;241m=\u001b[39m \u001b[38;5;28;43mself\u001b[39;49m\u001b[38;5;241;43m.\u001b[39;49m\u001b[43mraw_decode\u001b[49m\u001b[43m(\u001b[49m\u001b[43ms\u001b[49m\u001b[43m,\u001b[49m\u001b[43m \u001b[49m\u001b[43midx\u001b[49m\u001b[38;5;241;43m=\u001b[39;49m\u001b[43m_w\u001b[49m\u001b[43m(\u001b[49m\u001b[43ms\u001b[49m\u001b[43m,\u001b[49m\u001b[43m \u001b[49m\u001b[38;5;241;43m0\u001b[39;49m\u001b[43m)\u001b[49m\u001b[38;5;241;43m.\u001b[39;49m\u001b[43mend\u001b[49m\u001b[43m(\u001b[49m\u001b[43m)\u001b[49m\u001b[43m)\u001b[49m\n\u001b[0;32m    338\u001b[0m end \u001b[38;5;241m=\u001b[39m _w(s, end)\u001b[38;5;241m.\u001b[39mend()\n",
      "File \u001b[1;32mc:\\Users\\alber\\AppData\\Local\\Programs\\Python\\Python310\\lib\\json\\decoder.py:355\u001b[0m, in \u001b[0;36mJSONDecoder.raw_decode\u001b[1;34m(self, s, idx)\u001b[0m\n\u001b[0;32m    354\u001b[0m \u001b[38;5;28;01mexcept\u001b[39;00m \u001b[38;5;167;01mStopIteration\u001b[39;00m \u001b[38;5;28;01mas\u001b[39;00m err:\n\u001b[1;32m--> 355\u001b[0m     \u001b[38;5;28;01mraise\u001b[39;00m JSONDecodeError(\u001b[38;5;124m\"\u001b[39m\u001b[38;5;124mExpecting value\u001b[39m\u001b[38;5;124m\"\u001b[39m, s, err\u001b[38;5;241m.\u001b[39mvalue) \u001b[38;5;28;01mfrom\u001b[39;00m \u001b[38;5;28mNone\u001b[39m\n\u001b[0;32m    356\u001b[0m \u001b[38;5;28;01mreturn\u001b[39;00m obj, end\n",
      "\u001b[1;31mJSONDecodeError\u001b[0m: Expecting value: line 1 column 1 (char 0)",
      "\nDuring handling of the above exception, another exception occurred:\n",
      "\u001b[1;31mJSONDecodeError\u001b[0m                           Traceback (most recent call last)",
      "Input \u001b[1;32mIn [15]\u001b[0m, in \u001b[0;36m<cell line: 4>\u001b[1;34m()\u001b[0m\n\u001b[0;32m      1\u001b[0m \u001b[38;5;28;01mfrom\u001b[39;00m \u001b[38;5;21;01mPIL\u001b[39;00m \u001b[38;5;28;01mimport\u001b[39;00m Image\n\u001b[0;32m      2\u001b[0m \u001b[38;5;28;01mimport\u001b[39;00m \u001b[38;5;21;01mio\u001b[39;00m\n\u001b[1;32m----> 4\u001b[0m b64str \u001b[38;5;241m=\u001b[39m \u001b[43mresponse\u001b[49m\u001b[38;5;241;43m.\u001b[39;49m\u001b[43mjson\u001b[49m\u001b[43m(\u001b[49m\u001b[43m)\u001b[49m[\u001b[38;5;124m\"\u001b[39m\u001b[38;5;124mdata\u001b[39m\u001b[38;5;124m\"\u001b[39m]\n\u001b[0;32m      5\u001b[0m fmt \u001b[38;5;241m=\u001b[39m response\u001b[38;5;241m.\u001b[39mjson()[\u001b[38;5;124m\"\u001b[39m\u001b[38;5;124mformat\u001b[39m\u001b[38;5;124m\"\u001b[39m]\n\u001b[0;32m      6\u001b[0m bstr_recovered \u001b[38;5;241m=\u001b[39m base64\u001b[38;5;241m.\u001b[39mb64decode(b64str)\n",
      "File \u001b[1;32mc:\\Users\\alber\\AppData\\Local\\Programs\\Python\\Python310\\lib\\site-packages\\requests\\models.py:917\u001b[0m, in \u001b[0;36mResponse.json\u001b[1;34m(self, **kwargs)\u001b[0m\n\u001b[0;32m    915\u001b[0m     \u001b[38;5;28;01mraise\u001b[39;00m RequestsJSONDecodeError(e\u001b[38;5;241m.\u001b[39mmessage)\n\u001b[0;32m    916\u001b[0m \u001b[38;5;28;01melse\u001b[39;00m:\n\u001b[1;32m--> 917\u001b[0m     \u001b[38;5;28;01mraise\u001b[39;00m RequestsJSONDecodeError(e\u001b[38;5;241m.\u001b[39mmsg, e\u001b[38;5;241m.\u001b[39mdoc, e\u001b[38;5;241m.\u001b[39mpos)\n",
      "\u001b[1;31mJSONDecodeError\u001b[0m: [Errno Expecting value] <!doctype html>\n<html lang=en>\n<title>500 Internal Server Error</title>\n<h1>Internal Server Error</h1>\n<p>The server encountered an internal error and was unable to complete your request. Either the server is overloaded or there is an error in the application.</p>\n: 0"
     ]
    }
   ],
   "source": [
    "from PIL import Image\n",
    "import io\n",
    "\n",
    "b64str = response.json()[\"data\"]\n",
    "fmt = response.json()[\"format\"]\n",
    "bstr_recovered = base64.b64decode(b64str)\n",
    "\n",
    "img = Image.open(io.BytesIO(bstr_recovered))\n",
    "img_size = img.size\n",
    "\n",
    "# píxeles\n",
    "print(f\"La imagen en formato {fmt} tiene una resolución de {img_size[0]}x{img_size[1]}\")\n",
    "\n",
    "img"
   ]
  }
 ],
 "metadata": {
  "kernelspec": {
   "display_name": "Python 3.10.4 64-bit",
   "language": "python",
   "name": "python3"
  },
  "language_info": {
   "codemirror_mode": {
    "name": "ipython",
    "version": 3
   },
   "file_extension": ".py",
   "mimetype": "text/x-python",
   "name": "python",
   "nbconvert_exporter": "python",
   "pygments_lexer": "ipython3",
   "version": "3.10.4"
  },
  "orig_nbformat": 4,
  "vscode": {
   "interpreter": {
    "hash": "a1df10265df6aa2f4637cd62fd7f97ce8ae36fc3de633775b13b338fe6843337"
   }
  }
 },
 "nbformat": 4,
 "nbformat_minor": 2
}
